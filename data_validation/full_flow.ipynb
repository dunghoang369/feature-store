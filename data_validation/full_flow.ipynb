{
 "cells": [
  {
   "cell_type": "markdown",
   "id": "3eab6c10-90b3-43e9-a292-3675b95de2b5",
   "metadata": {},
   "source": [
    "# Great Expectation"
   ]
  },
  {
   "cell_type": "markdown",
   "id": "13e37bb0-273c-419a-93fd-4f9e9c114762",
   "metadata": {},
   "source": [
    "## A database as a data source"
   ]
  },
  {
   "cell_type": "code",
   "execution_count": 5,
   "id": "6461bdbf",
   "metadata": {},
   "outputs": [
    {
     "name": "stdout",
     "output_type": "stream",
     "text": [
      "Successfully migrated to FileDataContext!\n"
     ]
    }
   ],
   "source": [
    "import great_expectations as gx\n",
    "import pandas as pd\n",
    "# Create a DataContext as an entry point to the GX Python API\n",
    "\n",
    "context = gx.get_context()\n",
    "\n",
    "# Run this line to initialize a new Filesystem data context with the\n",
    "# contents of the Ephemeral Data Context\n",
    "context = context.convert_to_file_context()"
   ]
  },
  {
   "cell_type": "code",
   "execution_count": 8,
   "id": "29caf673-a7ca-4596-b067-72a74c4d86ec",
   "metadata": {},
   "outputs": [],
   "source": [
    "# Similar to a folder, you can add a database as a data source. Remember to keep your credentials secure as in this guide\n",
    "# https://docs.greatexpectations.io/docs/guides/connecting_to_your_data/fluent/database/connect_sql_source_data/#create-a-postgresql-data-source\n",
    "datasource_name = \"dunghc-diabetes-new\"\n",
    "my_connection_string = (\n",
    "    \"postgresql+psycopg2://k6:k6@localhost:5432/k6\"\n",
    ")\n",
    "\n",
    "datasource = context.sources.add_postgres(\n",
    "    name=datasource_name, connection_string=my_connection_string\n",
    ")\n",
    "\n",
    "# TODO: Try to validate some tables on your own :)"
   ]
  },
  {
   "cell_type": "code",
   "execution_count": 9,
   "id": "22d18cec",
   "metadata": {},
   "outputs": [],
   "source": [
    "table_asset = datasource.add_table_asset(name=\"my_table_asset\", table_name=\"diabetes_new\")"
   ]
  },
  {
   "cell_type": "code",
   "execution_count": 10,
   "id": "5d280208",
   "metadata": {},
   "outputs": [],
   "source": [
    "batch_request = table_asset.build_batch_request()"
   ]
  },
  {
   "cell_type": "code",
   "execution_count": 11,
   "id": "9d6ee3b2",
   "metadata": {},
   "outputs": [
    {
     "data": {
      "text/plain": [
       "{\n",
       "  \"expectation_suite_name\": \"my_expectation_suite\",\n",
       "  \"ge_cloud_id\": null,\n",
       "  \"expectations\": [],\n",
       "  \"data_asset_type\": null,\n",
       "  \"meta\": {\n",
       "    \"great_expectations_version\": \"0.17.21\"\n",
       "  }\n",
       "}"
      ]
     },
     "execution_count": 11,
     "metadata": {},
     "output_type": "execute_result"
    }
   ],
   "source": [
    "context.add_or_update_expectation_suite(\"my_expectation_suite\")"
   ]
  },
  {
   "cell_type": "code",
   "execution_count": 12,
   "id": "bca1db6b",
   "metadata": {},
   "outputs": [
    {
     "data": {
      "application/vnd.jupyter.widget-view+json": {
       "model_id": "eb4f1df31f3647c9955c0fe0b1b10447",
       "version_major": 2,
       "version_minor": 0
      },
      "text/plain": [
       "Calculating Metrics:   0%|          | 0/1 [00:00<?, ?it/s]"
      ]
     },
     "metadata": {},
     "output_type": "display_data"
    },
    {
     "data": {
      "text/html": [
       "<div>\n",
       "<style scoped>\n",
       "    .dataframe tbody tr th:only-of-type {\n",
       "        vertical-align: middle;\n",
       "    }\n",
       "\n",
       "    .dataframe tbody tr th {\n",
       "        vertical-align: top;\n",
       "    }\n",
       "\n",
       "    .dataframe thead th {\n",
       "        text-align: right;\n",
       "    }\n",
       "</style>\n",
       "<table border=\"1\" class=\"dataframe\">\n",
       "  <thead>\n",
       "    <tr style=\"text-align: right;\">\n",
       "      <th></th>\n",
       "      <th>created</th>\n",
       "      <th>content</th>\n",
       "      <th>pregnancies</th>\n",
       "      <th>glucose</th>\n",
       "      <th>bloodpressure</th>\n",
       "      <th>skinthickness</th>\n",
       "      <th>insulin</th>\n",
       "      <th>bmi</th>\n",
       "      <th>diabetespedigreefunction</th>\n",
       "      <th>age</th>\n",
       "    </tr>\n",
       "  </thead>\n",
       "  <tbody>\n",
       "    <tr>\n",
       "      <th>0</th>\n",
       "      <td>1699891119598</td>\n",
       "      <td>Hi</td>\n",
       "      <td>2</td>\n",
       "      <td>98</td>\n",
       "      <td>29</td>\n",
       "      <td>67</td>\n",
       "      <td>457</td>\n",
       "      <td>57.050919</td>\n",
       "      <td>2.220860</td>\n",
       "      <td>29</td>\n",
       "    </tr>\n",
       "    <tr>\n",
       "      <th>1</th>\n",
       "      <td>1699891121619</td>\n",
       "      <td>Hi</td>\n",
       "      <td>7</td>\n",
       "      <td>6</td>\n",
       "      <td>8</td>\n",
       "      <td>11</td>\n",
       "      <td>522</td>\n",
       "      <td>4.979407</td>\n",
       "      <td>1.132764</td>\n",
       "      <td>60</td>\n",
       "    </tr>\n",
       "    <tr>\n",
       "      <th>2</th>\n",
       "      <td>1699891123649</td>\n",
       "      <td>Hi</td>\n",
       "      <td>11</td>\n",
       "      <td>177</td>\n",
       "      <td>62</td>\n",
       "      <td>92</td>\n",
       "      <td>214</td>\n",
       "      <td>10.801221</td>\n",
       "      <td>1.194071</td>\n",
       "      <td>78</td>\n",
       "    </tr>\n",
       "    <tr>\n",
       "      <th>3</th>\n",
       "      <td>1699891125668</td>\n",
       "      <td>Hi</td>\n",
       "      <td>16</td>\n",
       "      <td>47</td>\n",
       "      <td>102</td>\n",
       "      <td>83</td>\n",
       "      <td>145</td>\n",
       "      <td>55.136469</td>\n",
       "      <td>2.065157</td>\n",
       "      <td>51</td>\n",
       "    </tr>\n",
       "    <tr>\n",
       "      <th>4</th>\n",
       "      <td>1699891127687</td>\n",
       "      <td>Hi</td>\n",
       "      <td>4</td>\n",
       "      <td>9</td>\n",
       "      <td>86</td>\n",
       "      <td>99</td>\n",
       "      <td>49</td>\n",
       "      <td>43.974775</td>\n",
       "      <td>1.218999</td>\n",
       "      <td>67</td>\n",
       "    </tr>\n",
       "  </tbody>\n",
       "</table>\n",
       "</div>"
      ],
      "text/plain": [
       "         created content  pregnancies  glucose  bloodpressure  skinthickness  \\\n",
       "0  1699891119598      Hi            2       98             29             67   \n",
       "1  1699891121619      Hi            7        6              8             11   \n",
       "2  1699891123649      Hi           11      177             62             92   \n",
       "3  1699891125668      Hi           16       47            102             83   \n",
       "4  1699891127687      Hi            4        9             86             99   \n",
       "\n",
       "   insulin        bmi  diabetespedigreefunction  age  \n",
       "0      457  57.050919                  2.220860   29  \n",
       "1      522   4.979407                  1.132764   60  \n",
       "2      214  10.801221                  1.194071   78  \n",
       "3      145  55.136469                  2.065157   51  \n",
       "4       49  43.974775                  1.218999   67  "
      ]
     },
     "execution_count": 12,
     "metadata": {},
     "output_type": "execute_result"
    }
   ],
   "source": [
    "validator = context.get_validator(\n",
    "    batch_request=batch_request,\n",
    "    expectation_suite_name=\"my_expectation_suite\",\n",
    ")\n",
    "validator.head()"
   ]
  },
  {
   "cell_type": "code",
   "execution_count": 14,
   "id": "6e1b8c8f",
   "metadata": {},
   "outputs": [
    {
     "data": {
      "application/vnd.jupyter.widget-view+json": {
       "model_id": "e00fdd6ed2b14fc2b8ad2c97a88611b7",
       "version_major": 2,
       "version_minor": 0
      },
      "text/plain": [
       "Calculating Metrics:   0%|          | 0/8 [00:00<?, ?it/s]"
      ]
     },
     "metadata": {},
     "output_type": "display_data"
    },
    {
     "data": {
      "application/vnd.jupyter.widget-view+json": {
       "model_id": "910763e1fe80492d963c06b4dcaad5bb",
       "version_major": 2,
       "version_minor": 0
      },
      "text/plain": [
       "Calculating Metrics:   0%|          | 0/8 [00:00<?, ?it/s]"
      ]
     },
     "metadata": {},
     "output_type": "display_data"
    },
    {
     "data": {
      "application/vnd.jupyter.widget-view+json": {
       "model_id": "3785136b879f4046a3fc7f449d5892ed",
       "version_major": 2,
       "version_minor": 0
      },
      "text/plain": [
       "Calculating Metrics:   0%|          | 0/8 [00:00<?, ?it/s]"
      ]
     },
     "metadata": {},
     "output_type": "display_data"
    },
    {
     "data": {
      "application/vnd.jupyter.widget-view+json": {
       "model_id": "738a9b3fe6cd43d9afe2441d20fd548f",
       "version_major": 2,
       "version_minor": 0
      },
      "text/plain": [
       "Calculating Metrics:   0%|          | 0/8 [00:00<?, ?it/s]"
      ]
     },
     "metadata": {},
     "output_type": "display_data"
    },
    {
     "data": {
      "application/vnd.jupyter.widget-view+json": {
       "model_id": "a980f05f29d94d4ba359ea943b322f56",
       "version_major": 2,
       "version_minor": 0
      },
      "text/plain": [
       "Calculating Metrics:   0%|          | 0/8 [00:00<?, ?it/s]"
      ]
     },
     "metadata": {},
     "output_type": "display_data"
    },
    {
     "data": {
      "application/vnd.jupyter.widget-view+json": {
       "model_id": "98d67578182d46558c922d456ee2d263",
       "version_major": 2,
       "version_minor": 0
      },
      "text/plain": [
       "Calculating Metrics:   0%|          | 0/8 [00:00<?, ?it/s]"
      ]
     },
     "metadata": {},
     "output_type": "display_data"
    },
    {
     "data": {
      "application/vnd.jupyter.widget-view+json": {
       "model_id": "42013ccfca8b463ea9991604581ae9f4",
       "version_major": 2,
       "version_minor": 0
      },
      "text/plain": [
       "Calculating Metrics:   0%|          | 0/8 [00:00<?, ?it/s]"
      ]
     },
     "metadata": {},
     "output_type": "display_data"
    },
    {
     "data": {
      "text/plain": [
       "{\n",
       "  \"success\": true,\n",
       "  \"result\": {\n",
       "    \"element_count\": 122,\n",
       "    \"unexpected_count\": 0,\n",
       "    \"unexpected_percent\": 0.0,\n",
       "    \"partial_unexpected_list\": []\n",
       "  },\n",
       "  \"meta\": {},\n",
       "  \"exception_info\": {\n",
       "    \"raised_exception\": false,\n",
       "    \"exception_traceback\": null,\n",
       "    \"exception_message\": null\n",
       "  }\n",
       "}"
      ]
     },
     "execution_count": 14,
     "metadata": {},
     "output_type": "execute_result"
    }
   ],
   "source": [
    "validator.expect_column_values_to_not_be_null(column=\"glucose\")\n",
    "validator.expect_column_values_to_not_be_null(column=\"bloodpressure\")\n",
    "validator.expect_column_values_to_not_be_null(column=\"skinthickness\")\n",
    "validator.expect_column_values_to_not_be_null(column=\"insulin\")\n",
    "validator.expect_column_values_to_not_be_null(column=\"bmi\")\n",
    "validator.expect_column_values_to_not_be_null(column=\"age\")\n",
    "validator.expect_column_values_to_not_be_null(column=\"pregnancies\")"
   ]
  },
  {
   "cell_type": "code",
   "execution_count": 15,
   "id": "ce08d720",
   "metadata": {},
   "outputs": [],
   "source": [
    "validator.save_expectation_suite(discard_failed_expectations=False)"
   ]
  },
  {
   "cell_type": "code",
   "execution_count": 16,
   "id": "cb84225b",
   "metadata": {},
   "outputs": [
    {
     "data": {
      "application/vnd.jupyter.widget-view+json": {
       "model_id": "266c38564f174f80a124fc2dc09e43da",
       "version_major": 2,
       "version_minor": 0
      },
      "text/plain": [
       "Calculating Metrics:   0%|          | 0/46 [00:00<?, ?it/s]"
      ]
     },
     "metadata": {},
     "output_type": "display_data"
    }
   ],
   "source": [
    "checkpoint = context.add_or_update_checkpoint(\n",
    "    name=\"diabetes_asset_checkpoint\",\n",
    "    validator=validator\n",
    ")\n",
    "\n",
    "# Get the result after validation\n",
    "checkpoint_result = checkpoint.run()\n",
    "\n",
    "# Quick view on the validation result\n",
    "context.view_validation_result(checkpoint_result)"
   ]
  },
  {
   "cell_type": "code",
   "execution_count": null,
   "id": "461ce1ee",
   "metadata": {},
   "outputs": [],
   "source": []
  }
 ],
 "metadata": {
  "kernelspec": {
   "display_name": "Python 3 (ipykernel)",
   "language": "python",
   "name": "python3"
  },
  "language_info": {
   "codemirror_mode": {
    "name": "ipython",
    "version": 3
   },
   "file_extension": ".py",
   "mimetype": "text/x-python",
   "name": "python",
   "nbconvert_exporter": "python",
   "pygments_lexer": "ipython3",
   "version": "3.8.18"
  }
 },
 "nbformat": 4,
 "nbformat_minor": 5
}
